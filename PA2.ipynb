{
 "cells": [
  {
   "cell_type": "markdown",
   "id": "0ee53a59-5268-47b3-ba0b-1beb80085ca6",
   "metadata": {},
   "source": [
    "# Programming Assignment 2\n",
    "#### Raymundo, Lorenz Nelson L. | 2ECE-A"
   ]
  },
  {
   "cell_type": "markdown",
   "id": "b46408ee-5d73-4edc-8fa1-591f64dcd807",
   "metadata": {},
   "source": [
    "### Normalization"
   ]
  },
  {
   "cell_type": "code",
   "execution_count": 1,
   "id": "8ed983e9-3d80-4fe4-8383-98ef736e593b",
   "metadata": {},
   "outputs": [],
   "source": [
    "import numpy as np"
   ]
  },
  {
   "cell_type": "code",
   "execution_count": 43,
   "id": "89f13d49-a0cd-431e-acd0-e36fe8ea0f88",
   "metadata": {},
   "outputs": [
    {
     "name": "stdout",
     "output_type": "stream",
     "text": [
      "[[ 0.46719563 -0.27482734  1.52859282 -0.76116417 -0.98951996]\n",
      " [-0.94789948  1.46934552 -0.25690212 -1.73325249  0.61876956]\n",
      " [-0.15460963  0.93505331 -1.24129754  1.06614896  0.35275793]\n",
      " [-0.80453372 -1.08095152 -0.79304773  0.23959149  0.3154695 ]\n",
      " [ 0.78992004  1.55979733 -1.63856771 -0.15985977  1.49379111]]\n",
      "\n",
      "\n",
      "Normalized ndarray saved to 'X_normalized.npy'\n"
     ]
    }
   ],
   "source": [
    "# Create a 5x5 array with random values\n",
    "x = np.random.random([5,5])\n",
    "\n",
    "# Get the mean and standard deviation\n",
    "mean = x.mean()\n",
    "sd = x.std()\n",
    "\n",
    "# normalize x using the formula z = ( x - mean ) / sd\n",
    "norm_x = (x-mean)/sd\n",
    "\n",
    "print(norm_x)\n",
    "\n",
    "np.save('X_normalized.npy', norm_x)\n",
    "print(\"\\n\\nNormalized ndarray saved to 'X_normalized.npy'\")"
   ]
  },
  {
   "cell_type": "markdown",
   "id": "9deced1e-61b1-4113-ba40-473193102dc8",
   "metadata": {},
   "source": [
    "### Divisible by 3"
   ]
  },
  {
   "cell_type": "code",
   "execution_count": 45,
   "id": "7f2ff86d-ccef-4b94-a267-a6b4c68e9cce",
   "metadata": {},
   "outputs": [
    {
     "name": "stdout",
     "output_type": "stream",
     "text": [
      "Original Array:\n",
      " [[  1   2   3   4   5   6   7   8   9  10]\n",
      " [ 11  12  13  14  15  16  17  18  19  20]\n",
      " [ 21  22  23  24  25  26  27  28  29  30]\n",
      " [ 31  32  33  34  35  36  37  38  39  40]\n",
      " [ 41  42  43  44  45  46  47  48  49  50]\n",
      " [ 51  52  53  54  55  56  57  58  59  60]\n",
      " [ 61  62  63  64  65  66  67  68  69  70]\n",
      " [ 71  72  73  74  75  76  77  78  79  80]\n",
      " [ 81  82  83  84  85  86  87  88  89  90]\n",
      " [ 91  92  93  94  95  96  97  98  99 100]]\n",
      "\n",
      " Array with squared values:\n",
      " [[    1     4     9    16    25    36    49    64    81   100]\n",
      " [  121   144   169   196   225   256   289   324   361   400]\n",
      " [  441   484   529   576   625   676   729   784   841   900]\n",
      " [  961  1024  1089  1156  1225  1296  1369  1444  1521  1600]\n",
      " [ 1681  1764  1849  1936  2025  2116  2209  2304  2401  2500]\n",
      " [ 2601  2704  2809  2916  3025  3136  3249  3364  3481  3600]\n",
      " [ 3721  3844  3969  4096  4225  4356  4489  4624  4761  4900]\n",
      " [ 5041  5184  5329  5476  5625  5776  5929  6084  6241  6400]\n",
      " [ 6561  6724  6889  7056  7225  7396  7569  7744  7921  8100]\n",
      " [ 8281  8464  8649  8836  9025  9216  9409  9604  9801 10000]]\n",
      "\n",
      " Original elements divisible by 3:\n",
      " [[ 3  6  9 12 15 18 21 24 27 30 33]\n",
      " [36 39 42 45 48 51 54 57 60 63 66]\n",
      " [69 72 75 78 81 84 87 90 93 96 99]]\n",
      "\n",
      " Squared elements divisible by 3:\n",
      " [[   9   36   81  144  225  324  441  576  729  900 1089]\n",
      " [1296 1521 1764 2025 2304 2601 2916 3249 3600 3969 4356]\n",
      " [4761 5184 5625 6084 6561 7056 7569 8100 8649 9216 9801]]\n",
      "\n",
      "\n",
      " Elements divisible by 3 saved to 'div_by_3.npy'\n"
     ]
    }
   ],
   "source": [
    "# Create a 10x10 array of the squares of the first 100 positive integers\n",
    "x = np.arange(1,101)\n",
    "x_1 = x.reshape(10,10) #\n",
    "x_2 = x_1**2\n",
    "\n",
    "orig_by_3 = x[x % 3 == 0]\n",
    "x_3 = orig_by_3.reshape(3,11)\n",
    "\n",
    "squared_by_3 = x_2[x_2 % 3 == 0]\n",
    "x_4 = squared_by_3.reshape(3,11)\n",
    "\n",
    "print(\"Original Array:\\n\", x_1)\n",
    "print(\"\\n Array with squared values:\\n\", x_2)\n",
    "print(\"\\n Original elements divisible by 3:\\n\", x_3)\n",
    "print(\"\\n Squared elements divisible by 3:\\n\", x_4)\n",
    "\n",
    "np.save('div_by_3.npy', x_3, x_4)\n",
    "print(\"\\n\\n Elements divisible by 3 saved to 'div_by_3.npy'\")"
   ]
  },
  {
   "cell_type": "code",
   "execution_count": null,
   "id": "398eeca5-8c9d-40e2-97ab-0081aecbb91f",
   "metadata": {},
   "outputs": [],
   "source": []
  }
 ],
 "metadata": {
  "kernelspec": {
   "display_name": "Python [conda env:base] *",
   "language": "python",
   "name": "conda-base-py"
  },
  "language_info": {
   "codemirror_mode": {
    "name": "ipython",
    "version": 3
   },
   "file_extension": ".py",
   "mimetype": "text/x-python",
   "name": "python",
   "nbconvert_exporter": "python",
   "pygments_lexer": "ipython3",
   "version": "3.13.5"
  }
 },
 "nbformat": 4,
 "nbformat_minor": 5
}
